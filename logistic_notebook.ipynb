{
  "cells": [
    {
      "cell_type": "markdown",
      "source": [
        "##MOUNTED DRIVE"
      ],
      "metadata": {
        "id": "I2zQVpXH9jWg"
      }
    },
    {
      "cell_type": "code",
      "execution_count": 83,
      "metadata": {
        "colab": {
          "base_uri": "https://localhost:8080/"
        },
        "id": "UhGwqmURvNG7",
        "outputId": "601f978f-8d8e-4a18-c5b8-48f6b6ab9c3f"
      },
      "outputs": [
        {
          "output_type": "stream",
          "name": "stdout",
          "text": [
            "Drive already mounted at /content/gdrive; to attempt to forcibly remount, call drive.mount(\"/content/gdrive\", force_remount=True).\n"
          ]
        }
      ],
      "source": [
        "from google.colab import drive\n",
        "drive.mount('/content/gdrive')\n",
        "import os\n",
        "os.chdir(\"/content/gdrive/My Drive/HW1_ML\")\n",
        "import numpy as np\n",
        "from util import *\n",
        "from logistic_np import *"
      ]
    },
    {
      "cell_type": "markdown",
      "metadata": {
        "id": "uPSkwVbLegmS"
      },
      "source": [
        "## LOGISTIC_NP"
      ]
    },
    {
      "cell_type": "markdown",
      "metadata": {
        "id": "8IOt87QIVoMI"
      },
      "source": [
        "###TODO 1.1 & 1.2: Chuẩn hóa dữ liệu"
      ]
    },
    {
      "cell_type": "code",
      "execution_count": 84,
      "metadata": {
        "colab": {
          "base_uri": "https://localhost:8080/"
        },
        "id": "9Ggp-49hP6Wr",
        "outputId": "4be2289d-bb75-4fce-bd5d-6182c3207ae9"
      },
      "outputs": [
        {
          "output_type": "stream",
          "name": "stdout",
          "text": [
            "EOF Reached\n",
            "Done reading\n"
          ]
        },
        {
          "output_type": "execute_result",
          "data": {
            "text/plain": [
              "array([[-0.75118653, -1.15748498, -1.04647363, ..., -0.75180351,\n",
              "         1.42435733,  0.59829548],\n",
              "       [-1.18627331, -0.79803185, -0.61205517, ...,  0.04259907,\n",
              "         1.38566852,  0.40350883],\n",
              "       [ 0.09870111, -0.47991064, -1.08492691, ...,  0.75008153,\n",
              "        -0.07413474,  0.28723528],\n",
              "       ...,\n",
              "       [-0.56416359,  0.63954484,  1.44473651, ..., -0.32600671,\n",
              "        -0.25256551, -0.18010676],\n",
              "       [-0.7649102 , -0.17853185,  1.14028905, ..., -0.28271976,\n",
              "        -0.22505078, -0.18389908],\n",
              "       [ 0.10841937, -0.15449722,  0.35621025, ..., -0.24225544,\n",
              "        -0.18119004, -0.15247033]])"
            ]
          },
          "metadata": {},
          "execution_count": 84
        }
      ],
      "source": [
        "train_x, train_y, test_x, test_y = get_vehicle_data()\n",
        "train_x, test_x = normalize_per_pixel(train_x, test_x)\n",
        "train_x[0]"
      ]
    },
    {
      "cell_type": "code",
      "execution_count": 85,
      "metadata": {
        "colab": {
          "base_uri": "https://localhost:8080/"
        },
        "id": "rzAAadu9Uqr5",
        "outputId": "608d820a-b029-4f86-cd04-6476c194af73"
      },
      "outputs": [
        {
          "output_type": "stream",
          "name": "stdout",
          "text": [
            "EOF Reached\n",
            "Done reading\n"
          ]
        },
        {
          "output_type": "execute_result",
          "data": {
            "text/plain": [
              "array([[-0.72765297, -1.08908313, -1.00302833, ..., -0.76781188,\n",
              "         1.23439647,  0.47711423],\n",
              "       [-1.10629409, -0.76207489, -0.62438721, ..., -0.03921457,\n",
              "         1.18276359,  0.28205668],\n",
              "       [ 0.0181553 , -0.4981735 , -1.04892422, ...,  0.60332794,\n",
              "        -0.14821732,  0.16731695],\n",
              "       ...,\n",
              "       [-0.60717625,  0.50006218,  1.24587044, ..., -0.43506665,\n",
              "        -0.34901185, -0.28016801],\n",
              "       [-0.79075982, -0.24574609,  0.98196906, ..., -0.38917076,\n",
              "        -0.32032692, -0.26869404],\n",
              "       [ 0.02962927, -0.22279814,  0.25337175, ..., -0.33753788,\n",
              "        -0.26869404, -0.23427212]])"
            ]
          },
          "metadata": {},
          "execution_count": 85
        }
      ],
      "source": [
        "train_x, train_y, test_x, test_y = get_vehicle_data()\n",
        "train_x, test_x= normalize_all_pixel(train_x, test_x)\n",
        "train_x[0]"
      ]
    },
    {
      "cell_type": "markdown",
      "metadata": {
        "id": "F_PaySKaVtRC"
      },
      "source": [
        "###TODO 1.3: Reshape dữ liệu "
      ]
    },
    {
      "cell_type": "code",
      "execution_count": 86,
      "metadata": {
        "id": "DnPAKrO0XB83"
      },
      "outputs": [],
      "source": [
        "train_x = reshape2D(train_x)"
      ]
    },
    {
      "cell_type": "code",
      "execution_count": 87,
      "metadata": {
        "colab": {
          "base_uri": "https://localhost:8080/"
        },
        "id": "Tn3RIATpXdUn",
        "outputId": "e355ccae-b6a1-495a-8e3e-7cd6d6c99d9d"
      },
      "outputs": [
        {
          "output_type": "execute_result",
          "data": {
            "text/plain": [
              "(2400, 4096)"
            ]
          },
          "metadata": {},
          "execution_count": 87
        }
      ],
      "source": [
        "train_x.shape"
      ]
    },
    {
      "cell_type": "markdown",
      "metadata": {
        "id": "LmHFy9f_Z6qG"
      },
      "source": [
        "###TODO 1.4: Thêm đặc trưng"
      ]
    },
    {
      "cell_type": "code",
      "execution_count": 88,
      "metadata": {
        "id": "V4lLlDIDadgJ"
      },
      "outputs": [],
      "source": [
        "train_x = add_one(train_x)"
      ]
    },
    {
      "cell_type": "code",
      "execution_count": 89,
      "metadata": {
        "colab": {
          "base_uri": "https://localhost:8080/"
        },
        "id": "v0vRieCUahJe",
        "outputId": "0b35e655-0939-4543-bd0d-5a11d90d586c"
      },
      "outputs": [
        {
          "output_type": "execute_result",
          "data": {
            "text/plain": [
              "(2400, 4097)"
            ]
          },
          "metadata": {},
          "execution_count": 89
        }
      ],
      "source": [
        "train_x.shape"
      ]
    },
    {
      "cell_type": "markdown",
      "metadata": {
        "id": "WnYNKNa7fxqp"
      },
      "source": [
        "###TODO 1.5: Tính các giá trị phân loại "
      ]
    },
    {
      "cell_type": "code",
      "execution_count": 90,
      "metadata": {
        "id": "DznfZ1TdwEd5"
      },
      "outputs": [],
      "source": [
        "num_feature = train_x.shape[1]\n",
        "bin_classifier = LogisticClassifier((num_feature, 1))\n",
        "y_hat = bin_classifier.feed_forward(train_x)"
      ]
    },
    {
      "cell_type": "code",
      "source": [
        "y_hat"
      ],
      "metadata": {
        "colab": {
          "base_uri": "https://localhost:8080/"
        },
        "id": "GEapyYGi7a8X",
        "outputId": "3c686b8f-aad9-436f-e44a-42824c10e1fc"
      },
      "execution_count": 91,
      "outputs": [
        {
          "output_type": "execute_result",
          "data": {
            "text/plain": [
              "array([[0.61083233],\n",
              "       [0.68806083],\n",
              "       [0.83222221],\n",
              "       ...,\n",
              "       [0.25894807],\n",
              "       [0.79640414],\n",
              "       [0.51988554]])"
            ]
          },
          "metadata": {},
          "execution_count": 91
        }
      ]
    },
    {
      "cell_type": "markdown",
      "metadata": {
        "id": "xHO8umcYeXhg"
      },
      "source": [
        "###TODO 1.6: Tính độ lỗi "
      ]
    },
    {
      "cell_type": "code",
      "execution_count": 92,
      "metadata": {
        "id": "wZRq80q_eYM7"
      },
      "outputs": [],
      "source": [
        "loss = bin_classifier.compute_loss(train_y, y_hat)"
      ]
    },
    {
      "cell_type": "code",
      "execution_count": 93,
      "metadata": {
        "colab": {
          "base_uri": "https://localhost:8080/"
        },
        "id": "fBGIygGkyu6N",
        "outputId": "0b10162d-401e-4d5b-e23c-3c84244120b2"
      },
      "outputs": [
        {
          "output_type": "execute_result",
          "data": {
            "text/plain": [
              "0.811250412816247"
            ]
          },
          "metadata": {},
          "execution_count": 93
        }
      ],
      "source": [
        "loss"
      ]
    },
    {
      "cell_type": "markdown",
      "metadata": {
        "id": "LRxcnZY5h-cw"
      },
      "source": [
        "###TODO 1.7: Tính đạo hàm "
      ]
    },
    {
      "cell_type": "code",
      "execution_count": 94,
      "metadata": {
        "id": "0jtOIcZRh_bd"
      },
      "outputs": [],
      "source": [
        "grad = bin_classifier.get_grad(train_x, train_y, y_hat)"
      ]
    },
    {
      "cell_type": "code",
      "execution_count": 95,
      "metadata": {
        "colab": {
          "base_uri": "https://localhost:8080/"
        },
        "id": "-oBbHCG2ZyOd",
        "outputId": "87db1fca-5b87-41e6-e0be-7a182908fb4b"
      },
      "outputs": [
        {
          "output_type": "execute_result",
          "data": {
            "text/plain": [
              "array([[ 0.01630328],\n",
              "       [ 0.00905221],\n",
              "       [-0.00020457],\n",
              "       ...,\n",
              "       [-0.0046142 ],\n",
              "       [-0.00787064],\n",
              "       [ 0.03974735]])"
            ]
          },
          "metadata": {},
          "execution_count": 95
        }
      ],
      "source": [
        "grad"
      ]
    },
    {
      "cell_type": "markdown",
      "metadata": {
        "id": "f8RT7Fqo-QBk"
      },
      "source": [
        "###TODO 1.8: Cập nhật w\n"
      ]
    },
    {
      "cell_type": "code",
      "execution_count": 96,
      "metadata": {
        "id": "acqsd6Sd-Q8s"
      },
      "outputs": [],
      "source": [
        "bin_classifier.update_weight(grad, learning_rate=0.01)"
      ]
    },
    {
      "cell_type": "code",
      "execution_count": 97,
      "metadata": {
        "colab": {
          "base_uri": "https://localhost:8080/"
        },
        "id": "Ip__hMmfZ5kB",
        "outputId": "9c5040eb-636f-4b2a-d80a-63ed141225a2"
      },
      "outputs": [
        {
          "output_type": "execute_result",
          "data": {
            "text/plain": [
              "array([[-0.0062773 ],\n",
              "       [ 0.01276355],\n",
              "       [ 0.04746383],\n",
              "       ...,\n",
              "       [-0.00823311],\n",
              "       [-0.02151544],\n",
              "       [-0.02710052]])"
            ]
          },
          "metadata": {},
          "execution_count": 97
        }
      ],
      "source": [
        "bin_classifier.w "
      ]
    },
    {
      "cell_type": "markdown",
      "metadata": {
        "id": "pDK09PQf_9A6"
      },
      "source": [
        "###TODO 1.9: Cập nhật w với momentum"
      ]
    },
    {
      "cell_type": "code",
      "execution_count": 98,
      "metadata": {
        "id": "-pUdyuR7c_fB"
      },
      "outputs": [],
      "source": [
        "bin_classifier = LogisticClassifier((num_feature, 1))"
      ]
    },
    {
      "cell_type": "code",
      "execution_count": 99,
      "metadata": {
        "id": "7tprcx-ddACc"
      },
      "outputs": [],
      "source": [
        "momentum = np.ones_like(grad)\n",
        "learning_rate = 0.01\n",
        "momentum_rate = 0.9"
      ]
    },
    {
      "cell_type": "code",
      "execution_count": 100,
      "metadata": {
        "id": "QKNG87S32rCC"
      },
      "outputs": [],
      "source": [
        "bin_classifier.update_weight_momentum(grad, learning_rate, momentum, momentum_rate)"
      ]
    },
    {
      "cell_type": "code",
      "execution_count": 101,
      "metadata": {
        "colab": {
          "base_uri": "https://localhost:8080/"
        },
        "id": "rqEgE0f1_94y",
        "outputId": "b4eeabad-26a2-41fb-c21b-165d034da2e1"
      },
      "outputs": [
        {
          "output_type": "execute_result",
          "data": {
            "text/plain": [
              "array([[-0.90200168],\n",
              "       [-0.90677683],\n",
              "       [-0.89980481],\n",
              "       ...,\n",
              "       [-0.89688172],\n",
              "       [-0.92481079],\n",
              "       [-0.86835384]])"
            ]
          },
          "metadata": {},
          "execution_count": 101
        }
      ],
      "source": [
        "bin_classifier.w"
      ]
    },
    {
      "cell_type": "markdown",
      "metadata": {
        "id": "13BJTDCn2u-3"
      },
      "source": [
        "###TODO 1.10: Đánh giá mô hình phân loại"
      ]
    },
    {
      "cell_type": "code",
      "execution_count": 102,
      "metadata": {
        "id": "W5I3CNuhGKml"
      },
      "outputs": [],
      "source": [
        "test_x = reshape2D(test_x)\n",
        "test_x = add_one(test_x)"
      ]
    },
    {
      "cell_type": "code",
      "execution_count": 103,
      "metadata": {
        "id": "Fc__-pZh7Z_v"
      },
      "outputs": [],
      "source": [
        "y_hat = bin_classifier.feed_forward(test_x)"
      ]
    },
    {
      "cell_type": "code",
      "source": [
        "test(y_hat, test_y)"
      ],
      "metadata": {
        "id": "2e3obPDaNESS",
        "colab": {
          "base_uri": "https://localhost:8080/"
        },
        "outputId": "fec6c10c-683e-4f3a-ae2f-9c4f60204499"
      },
      "execution_count": 104,
      "outputs": [
        {
          "output_type": "stream",
          "name": "stdout",
          "text": [
            "Precision: 0.713\n",
            "Recall: 0.703\n",
            "F1-score: 0.708\n"
          ]
        },
        {
          "output_type": "execute_result",
          "data": {
            "text/plain": [
              "(0.7128378378378378, 0.7033333333333334, 0.7080536912751677)"
            ]
          },
          "metadata": {},
          "execution_count": 104
        }
      ]
    },
    {
      "cell_type": "markdown",
      "metadata": {
        "id": "5OIebbROaRGi"
      },
      "source": [
        "##TEST LOGISTIC_NP"
      ]
    },
    {
      "cell_type": "code",
      "execution_count": 105,
      "metadata": {
        "id": "4x0m_69yaU5d",
        "colab": {
          "base_uri": "https://localhost:8080/"
        },
        "outputId": "a0cccfca-f402-4719-eaf0-2eda2ae694c9"
      },
      "outputs": [
        {
          "output_type": "stream",
          "name": "stdout",
          "text": [
            "EOF Reached\n",
            "Done reading\n",
            "Precision: 0.751\n",
            "Recall: 0.877\n",
            "F1-score: 0.809\n"
          ]
        }
      ],
      "source": [
        "!python3 logistic_np.py"
      ]
    },
    {
      "cell_type": "code",
      "source": [
        "!python3 unit_test.py"
      ],
      "metadata": {
        "colab": {
          "base_uri": "https://localhost:8080/"
        },
        "id": "2BHRakOy8N00",
        "outputId": "36add761-5c2f-4db2-b19d-597a8482af88"
      },
      "execution_count": 106,
      "outputs": [
        {
          "output_type": "stream",
          "name": "stdout",
          "text": [
            "Please enter 0 for logistic or 1 for softmax: 0\n",
            "Running logistic np unit test...\n",
            "EOF Reached\n",
            "Done reading\n",
            "Testing normalize_per_pixel: Passed.\n",
            "----------------------------------------\n",
            "EOF Reached\n",
            "Done reading\n",
            "Testing normalize_all_pixel: Passed.\n",
            "----------------------------------------\n",
            "Testing reshape2D: Passed.\n",
            "----------------------------------------\n",
            "Testing add_one: Passed.\n",
            "----------------------------------------\n",
            "Testing feed_forward 1: Passed.\n",
            "----------------------------------------\n",
            "Testing compute_loss 1: Passed.\n",
            "----------------------------------------\n",
            "Testing get_grad 1: Passed.\n",
            "----------------------------------------\n",
            "Testing update_weight 1: Passed.\n",
            "----------------------------------------\n",
            "Testing update_weight_momentum 1: Passed.\n",
            "----------------------------------------\n",
            "Testing feed_forward 2: Passed.\n",
            "----------------------------------------\n",
            "Testing compute_loss 2: Passed.\n",
            "----------------------------------------\n",
            "Testing get_grad 2: Passed.\n",
            "----------------------------------------\n",
            "Testing update_weight 2: Passed.\n",
            "----------------------------------------\n",
            "Testing update_weight_momentum 2: Passed.\n",
            "----------------------------------------\n",
            "Testing feed_forward 3: Passed.\n",
            "----------------------------------------\n",
            "Testing compute_loss 3: Passed.\n",
            "----------------------------------------\n",
            "Testing get_grad 3: Passed.\n",
            "----------------------------------------\n",
            "Testing update_weight 3: Passed.\n",
            "----------------------------------------\n",
            "Testing update_weight_momentum 3: Passed.\n",
            "----------------------------------------\n",
            "Testing feed_forward 4: Passed.\n",
            "----------------------------------------\n",
            "Testing compute_loss 4: Passed.\n",
            "----------------------------------------\n",
            "Testing get_grad 4: Passed.\n",
            "----------------------------------------\n",
            "Testing update_weight 4: Passed.\n",
            "----------------------------------------\n",
            "Testing update_weight_momentum 4: Passed.\n",
            "----------------------------------------\n",
            "Testing feed_forward 5: Passed.\n",
            "----------------------------------------\n",
            "Testing compute_loss 5: Passed.\n",
            "----------------------------------------\n",
            "Testing get_grad 5: Passed.\n",
            "----------------------------------------\n",
            "Testing update_weight 5: Passed.\n",
            "----------------------------------------\n",
            "Testing update_weight_momentum 5: Passed.\n",
            "----------------------------------------\n",
            "Testing feed_forward 6: Passed.\n",
            "----------------------------------------\n",
            "Testing compute_loss 6: Passed.\n",
            "----------------------------------------\n",
            "Testing get_grad 6: Passed.\n",
            "----------------------------------------\n",
            "Testing update_weight 6: Passed.\n",
            "----------------------------------------\n",
            "Testing update_weight_momentum 6: Passed.\n",
            "----------------------------------------\n",
            "Testing feed_forward 7: Passed.\n",
            "----------------------------------------\n",
            "Testing compute_loss 7: Passed.\n",
            "----------------------------------------\n",
            "Testing get_grad 7: Passed.\n",
            "----------------------------------------\n",
            "Testing update_weight 7: Passed.\n",
            "----------------------------------------\n",
            "Testing update_weight_momentum 7: Passed.\n",
            "----------------------------------------\n",
            "Testing feed_forward 8: Passed.\n",
            "----------------------------------------\n",
            "Testing compute_loss 8: Passed.\n",
            "----------------------------------------\n",
            "Testing get_grad 8: Passed.\n",
            "----------------------------------------\n",
            "Testing update_weight 8: Passed.\n",
            "----------------------------------------\n",
            "Testing update_weight_momentum 8: Passed.\n",
            "----------------------------------------\n",
            "Testing feed_forward 9: Passed.\n",
            "----------------------------------------\n",
            "Testing compute_loss 9: Passed.\n",
            "----------------------------------------\n",
            "Testing get_grad 9: Passed.\n",
            "----------------------------------------\n",
            "Testing update_weight 9: Passed.\n",
            "----------------------------------------\n",
            "Testing update_weight_momentum 9: Passed.\n",
            "----------------------------------------\n",
            "Testing feed_forward 10: Passed.\n",
            "----------------------------------------\n",
            "Testing compute_loss 10: Passed.\n",
            "----------------------------------------\n",
            "Testing get_grad 10: Passed.\n",
            "----------------------------------------\n",
            "Testing update_weight 10: Passed.\n",
            "----------------------------------------\n",
            "Testing update_weight_momentum 10: Passed.\n",
            "----------------------------------------\n"
          ]
        }
      ]
    },
    {
      "cell_type": "markdown",
      "metadata": {
        "id": "gXhpvMYTrRxu"
      },
      "source": [
        "##LOGISTIC_TF"
      ]
    },
    {
      "cell_type": "markdown",
      "source": [
        "###Chuẩn hóa dữ liệu"
      ],
      "metadata": {
        "id": "iiTRGtKW88Qy"
      }
    },
    {
      "cell_type": "code",
      "execution_count": 107,
      "metadata": {
        "id": "ZrCOolYtFPT5",
        "colab": {
          "base_uri": "https://localhost:8080/"
        },
        "outputId": "ec180a97-3ad4-4849-c632-e8fafeeb6e4c"
      },
      "outputs": [
        {
          "output_type": "stream",
          "name": "stdout",
          "text": [
            "EOF Reached\n",
            "Done reading\n"
          ]
        }
      ],
      "source": [
        "import tensorflow as tf\n",
        "np.random.seed(2018)\n",
        "tf.compat.v1.set_random_seed(2018)\n",
        "\n",
        "train_x, train_y, test_x, test_y = get_vehicle_data()\n",
        "train_x, test_x = normalize_per_pixel(train_x, test_x)\n",
        "train_x = reshape2D(train_x)\n",
        "test_x = reshape2D(test_x)\n",
        "train_x = add_one(train_x)\n",
        "test_x = add_one(test_x)\n",
        "\n",
        "m, n = train_x.shape\n",
        "num_epoch = 100\n",
        "tf.compat.v1.disable_eager_execution()\n",
        "tf.compat.v1.disable_v2_behavior()"
      ]
    },
    {
      "cell_type": "markdown",
      "metadata": {
        "id": "he2jHJs0epYm"
      },
      "source": [
        "###TODO 1.11: Tạo TF place holders "
      ]
    },
    {
      "cell_type": "code",
      "execution_count": 108,
      "metadata": {
        "id": "TgQ0fL61ePJ1"
      },
      "outputs": [],
      "source": [
        "x = tf.compat.v1.placeholder(tf.float32, shape=(None, n))\n",
        "y = tf.compat.v1.placeholder(tf.float32, shape=(None, 1))"
      ]
    },
    {
      "cell_type": "markdown",
      "metadata": {
        "id": "UEIjP8mbevv0"
      },
      "source": [
        "###TODO 1.12: Tạo TF variable cho w"
      ]
    },
    {
      "cell_type": "code",
      "execution_count": 109,
      "metadata": {
        "id": "apQJTj6ceQhQ"
      },
      "outputs": [],
      "source": [
        "w = tf.Variable(tf.ones([n, 1]), dtype=tf.float32)"
      ]
    },
    {
      "cell_type": "markdown",
      "metadata": {
        "id": "_aUok1r9exMY"
      },
      "source": [
        "###TODO 1.13 & TODO 1.14: Tạo toán tử feed forward & Tính độ lỗi "
      ]
    },
    {
      "cell_type": "code",
      "execution_count": 110,
      "metadata": {
        "id": "e1AuUa1ceTxk"
      },
      "outputs": [],
      "source": [
        "pred = tf.matmul(x, w)\n",
        "cost = tf.nn.sigmoid_cross_entropy_with_logits(logits = pred, labels = y)"
      ]
    },
    {
      "cell_type": "markdown",
      "metadata": {
        "id": "5CegraDAe0BS"
      },
      "source": [
        "###TODO 1.15: Tạo đối tượng SGD optimizer "
      ]
    },
    {
      "cell_type": "code",
      "execution_count": 111,
      "metadata": {
        "id": "jjJecOvOeXp2"
      },
      "outputs": [],
      "source": [
        "SGD = tf.compat.v1.train.GradientDescentOptimizer(learning_rate=0.002).minimize(cost)"
      ]
    },
    {
      "cell_type": "markdown",
      "metadata": {
        "id": "Vo0TI8Q5e3-y"
      },
      "source": [
        "###TODO 1.16: Tính cost và cập nhật w"
      ]
    },
    {
      "cell_type": "code",
      "execution_count": 112,
      "metadata": {
        "id": "27gDrMMCFV9K",
        "colab": {
          "base_uri": "https://localhost:8080/"
        },
        "outputId": "c67b7381-562c-47d1-d16f-95ef1abe802a"
      },
      "outputs": [
        {
          "output_type": "stream",
          "name": "stdout",
          "text": [
            "Precision: 0.759\n",
            "Recall: 0.840\n",
            "F1-score: 0.797\n"
          ]
        }
      ],
      "source": [
        "init = tf.compat.v1.global_variables_initializer()\n",
        "with tf.compat.v1.Session() as sess:\n",
        "    sess.run(init)\n",
        "    for e in range(num_epoch):\n",
        "        sess.run(SGD, feed_dict={x: train_x, y: train_y})\n",
        "        cal_cost = sess.run(cost, feed_dict={x: train_x, y: train_y})\n",
        "        Weight = sess.run(w)  \n",
        "    y_hat = sess.run(pred, feed_dict={x: test_x})\n",
        "    test(y_hat, test_y)"
      ]
    }
  ],
  "metadata": {
    "accelerator": "GPU",
    "colab": {
      "provenance": [],
      "collapsed_sections": [
        "I2zQVpXH9jWg"
      ]
    },
    "gpuClass": "standard",
    "kernelspec": {
      "display_name": "Python 3",
      "name": "python3"
    },
    "language_info": {
      "name": "python"
    }
  },
  "nbformat": 4,
  "nbformat_minor": 0
}