{
  "nbformat": 4,
  "nbformat_minor": 0,
  "metadata": {
    "colab": {
      "provenance": []
    },
    "kernelspec": {
      "name": "python3",
      "display_name": "Python 3"
    },
    "language_info": {
      "name": "python"
    }
  },
  "cells": [
    {
      "cell_type": "markdown",
      "source": [
        "##MOUNT DRIVE"
      ],
      "metadata": {
        "id": "ho_nSNVs-LYQ"
      }
    },
    {
      "cell_type": "code",
      "execution_count": 52,
      "metadata": {
        "colab": {
          "base_uri": "https://localhost:8080/"
        },
        "id": "rBGhHezC9aVA",
        "outputId": "a1ba35c9-b5cc-4d09-d753-1b7f76953a9b"
      },
      "outputs": [
        {
          "output_type": "stream",
          "name": "stdout",
          "text": [
            "Drive already mounted at /content/gdrive; to attempt to forcibly remount, call drive.mount(\"/content/gdrive\", force_remount=True).\n"
          ]
        }
      ],
      "source": [
        "from google.colab import drive\n",
        "drive.mount('/content/gdrive')\n",
        "import os\n",
        "os.chdir(\"/content/gdrive/My Drive/HW1_ML\")\n",
        "import numpy as np\n",
        "from util import get_mnist_data\n",
        "from logistic_np import add_one, LogisticClassifier\n",
        "from softmax_np import *"
      ]
    },
    {
      "cell_type": "markdown",
      "source": [
        "##SOFTMAX_NP"
      ],
      "metadata": {
        "id": "3JY8Jhh2-Qhk"
      }
    },
    {
      "cell_type": "markdown",
      "source": [
        "###TODO 2.1: Chuẩn hóa dữ liệu"
      ],
      "metadata": {
        "id": "QSpLaTTx-YEo"
      }
    },
    {
      "cell_type": "code",
      "source": [
        "train_x, train_y, val_x, val_y, test_x, test_y = get_mnist_data()\n",
        "train_x, val_x, test_x = normalize(train_x, val_x, test_x)"
      ],
      "metadata": {
        "colab": {
          "base_uri": "https://localhost:8080/"
        },
        "id": "tcL4mLpd-Vpf",
        "outputId": "b8270fe2-7e52-42a8-d0a7-2600f1fba144"
      },
      "execution_count": 53,
      "outputs": [
        {
          "output_type": "stream",
          "name": "stdout",
          "text": [
            "Reading fashion MNIST data...\n",
            "<class 'numpy.ndarray'>\n"
          ]
        }
      ]
    },
    {
      "cell_type": "code",
      "source": [
        "train_x[0][0:10]"
      ],
      "metadata": {
        "colab": {
          "base_uri": "https://localhost:8080/"
        },
        "id": "xGeTqxQB-3Wc",
        "outputId": "962147fd-b126-4d48-d7d7-d09f7f0ff393"
      },
      "execution_count": 54,
      "outputs": [
        {
          "output_type": "execute_result",
          "data": {
            "text/plain": [
              "array([-0.8080229, -0.8080229, -0.8080229, -0.8080229, -0.8080229,\n",
              "       -0.8080229, -0.8080229, -0.8080229, -0.8080229, -0.8080229],\n",
              "      dtype=float32)"
            ]
          },
          "metadata": {},
          "execution_count": 54
        }
      ]
    },
    {
      "cell_type": "markdown",
      "source": [
        "###TODO 2.2: Tạo ma trận one-hot"
      ],
      "metadata": {
        "id": "dBrGVbdq_B82"
      }
    },
    {
      "cell_type": "code",
      "source": [
        "train_y = create_one_hot(train_y)\n",
        "val_y = create_one_hot(val_y)\n",
        "test_y = create_one_hot(test_y)"
      ],
      "metadata": {
        "id": "0Uk7BQbP-_av"
      },
      "execution_count": 55,
      "outputs": []
    },
    {
      "cell_type": "code",
      "source": [
        "train_y"
      ],
      "metadata": {
        "colab": {
          "base_uri": "https://localhost:8080/"
        },
        "id": "YxIyUsNP_AZE",
        "outputId": "1bddaef4-6673-4ee1-e5c9-a6e5181f8a4e"
      },
      "execution_count": 56,
      "outputs": [
        {
          "output_type": "execute_result",
          "data": {
            "text/plain": [
              "array([[0., 0., 0., ..., 0., 0., 1.],\n",
              "       [0., 0., 0., ..., 0., 0., 0.],\n",
              "       [0., 0., 0., ..., 0., 0., 0.],\n",
              "       ...,\n",
              "       [1., 0., 0., ..., 0., 0., 0.],\n",
              "       [0., 0., 0., ..., 0., 0., 0.],\n",
              "       [0., 0., 0., ..., 0., 0., 0.]])"
            ]
          },
          "metadata": {},
          "execution_count": 56
        }
      ]
    },
    {
      "cell_type": "markdown",
      "source": [
        "###TODO 2.3 - Tính các giá trị phân loại "
      ],
      "metadata": {
        "id": "kFlzxrtH_JMV"
      }
    },
    {
      "cell_type": "code",
      "source": [
        "train_x = add_one(train_x)\n",
        "val_x = add_one(val_x)\n",
        "test_x = add_one(test_x)\n",
        "\n",
        "num_feature = train_x.shape[1]\n",
        "dec_classifier = SoftmaxClassifier((num_feature, 10))\n",
        "train_y_hat = dec_classifier.feed_forward(train_x)"
      ],
      "metadata": {
        "id": "8gsusiq3-2D7"
      },
      "execution_count": 57,
      "outputs": []
    },
    {
      "cell_type": "code",
      "source": [
        "train_y_hat"
      ],
      "metadata": {
        "colab": {
          "base_uri": "https://localhost:8080/"
        },
        "id": "r8QJpfK9_SE3",
        "outputId": "dec14ae3-687b-4efc-8b74-e80436236fb2"
      },
      "execution_count": 58,
      "outputs": [
        {
          "output_type": "execute_result",
          "data": {
            "text/plain": [
              "array([[0.01836677, 0.00562935, 0.4799791 , ..., 0.11505976, 0.01126952,\n",
              "        0.18803774],\n",
              "       [0.09392317, 0.29645027, 0.07178385, ..., 0.06257693, 0.00265919,\n",
              "        0.0420562 ],\n",
              "       [0.17111511, 0.08333466, 0.23802922, ..., 0.02260882, 0.01031703,\n",
              "        0.30127021],\n",
              "       ...,\n",
              "       [0.09975072, 0.62495118, 0.07973969, ..., 0.01224637, 0.00335084,\n",
              "        0.00283778],\n",
              "       [0.0485257 , 0.14742686, 0.26491249, ..., 0.03741206, 0.02057914,\n",
              "        0.00451708],\n",
              "       [0.02496634, 0.03876298, 0.21078959, ..., 0.19762442, 0.15268714,\n",
              "        0.0523463 ]])"
            ]
          },
          "metadata": {},
          "execution_count": 58
        }
      ]
    },
    {
      "cell_type": "markdown",
      "source": [
        "###TODO 2.4 - Tính độ lỗi "
      ],
      "metadata": {
        "id": "bPiRB27p_SmU"
      }
    },
    {
      "cell_type": "code",
      "source": [
        "train_loss = dec_classifier.compute_loss(train_y, train_y_hat)"
      ],
      "metadata": {
        "id": "kicmi_OU_UJI"
      },
      "execution_count": 59,
      "outputs": []
    },
    {
      "cell_type": "code",
      "source": [
        "train_loss"
      ],
      "metadata": {
        "colab": {
          "base_uri": "https://localhost:8080/"
        },
        "id": "BhWlWco2_Zvh",
        "outputId": "3efc621a-c419-4cbd-88fa-4417d1513c17"
      },
      "execution_count": 60,
      "outputs": [
        {
          "output_type": "execute_result",
          "data": {
            "text/plain": [
              "2.4498879135219123"
            ]
          },
          "metadata": {},
          "execution_count": 60
        }
      ]
    },
    {
      "cell_type": "markdown",
      "source": [
        "###TODO 2.5 - Tính đạo hàm "
      ],
      "metadata": {
        "id": "Fyaaesl3_cmB"
      }
    },
    {
      "cell_type": "code",
      "source": [
        "grad = dec_classifier.get_grad(train_x, train_y, train_y_hat)"
      ],
      "metadata": {
        "id": "jbYxUpAB_eBh"
      },
      "execution_count": 61,
      "outputs": []
    },
    {
      "cell_type": "code",
      "source": [
        "grad"
      ],
      "metadata": {
        "colab": {
          "base_uri": "https://localhost:8080/"
        },
        "id": "ZYnPwK95_hKI",
        "outputId": "c12c7c2c-5baa-4a20-f987-abe3f2519b9b"
      },
      "execution_count": 62,
      "outputs": [
        {
          "output_type": "execute_result",
          "data": {
            "text/plain": [
              "array([[ 0.00226223, -0.06816431, -0.08946164, ...,  0.01098402,\n",
              "         0.06573749, -0.01184816],\n",
              "       [ 0.00227209, -0.06815997, -0.08944951, ...,  0.01098782,\n",
              "         0.06573603, -0.01184509],\n",
              "       [ 0.00213754, -0.06809155, -0.08942523, ...,  0.01100249,\n",
              "         0.0657342 , -0.01183654],\n",
              "       ...,\n",
              "       [ 0.00295915, -0.06759032, -0.08893543, ...,  0.01154943,\n",
              "         0.06416927, -0.01252872],\n",
              "       [ 0.00220788, -0.0681487 , -0.08943737, ...,  0.01099741,\n",
              "         0.06572753, -0.0118704 ],\n",
              "       [-0.00280272,  0.08436028,  0.11071777, ..., -0.01359363,\n",
              "        -0.08135585,  0.01466318]])"
            ]
          },
          "metadata": {},
          "execution_count": 62
        }
      ]
    },
    {
      "cell_type": "markdown",
      "source": [
        "###TODO 2.6 - Đề xuất điều kiện dừng"
      ],
      "metadata": {
        "id": "STrOzO36_oLD"
      }
    },
    {
      "cell_type": "markdown",
      "source": [
        "###TODO 2.7 - Đánh giá mô hình phân loại "
      ],
      "metadata": {
        "id": "nyR1qTX9_pmH"
      }
    },
    {
      "cell_type": "code",
      "source": [
        "!python3 softmax_np.py"
      ],
      "metadata": {
        "colab": {
          "base_uri": "https://localhost:8080/"
        },
        "id": "sxA428_N_o1Z",
        "outputId": "476b97c9-2f0b-42d8-ce41-a7a3a3263fec"
      },
      "execution_count": 63,
      "outputs": [
        {
          "output_type": "stream",
          "name": "stdout",
          "text": [
            "Reading fashion MNIST data...\n",
            "<class 'numpy.ndarray'>\n",
            "Confusion matrix:\n",
            "[[0.93 0.   0.02 0.05 0.   0.   0.02 0.   0.   0.  ]\n",
            " [0.02 0.95 0.   0.05 0.   0.   0.   0.   0.   0.  ]\n",
            " [0.02 0.   0.61 0.05 0.23 0.   0.09 0.   0.   0.  ]\n",
            " [0.05 0.03 0.   0.8  0.02 0.   0.04 0.   0.   0.  ]\n",
            " [0.   0.   0.09 0.05 0.74 0.   0.09 0.   0.   0.  ]\n",
            " [0.   0.   0.   0.   0.   0.92 0.   0.08 0.   0.  ]\n",
            " [0.22 0.   0.11 0.03 0.23 0.   0.45 0.   0.02 0.  ]\n",
            " [0.   0.   0.   0.   0.   0.06 0.   0.84 0.   0.1 ]\n",
            " [0.   0.   0.   0.03 0.02 0.04 0.   0.   0.93 0.  ]\n",
            " [0.   0.   0.   0.   0.   0.02 0.   0.   0.   0.98]]\n",
            "Diagonal values:\n",
            "[0.93 0.95 0.61 0.8  0.74 0.92 0.45 0.84 0.93 0.98]\n"
          ]
        }
      ]
    },
    {
      "cell_type": "markdown",
      "source": [
        "##TEST SOFTMAX_NP"
      ],
      "metadata": {
        "id": "KJwVY-ARAc3A"
      }
    },
    {
      "cell_type": "code",
      "source": [
        "!python3 unit_test.py"
      ],
      "metadata": {
        "colab": {
          "base_uri": "https://localhost:8080/"
        },
        "id": "x12xY9G4Ab95",
        "outputId": "88667c08-8f59-483e-8a27-0dbd9ff9554c"
      },
      "execution_count": 64,
      "outputs": [
        {
          "output_type": "stream",
          "name": "stdout",
          "text": [
            "Please enter 0 for logistic or 1 for softmax: 1\n",
            "Running logistic np unit test...\n",
            "Reading fashion MNIST data...\n",
            "<class 'numpy.ndarray'>\n",
            "Testing normalize: Passed.\n",
            "----------------------------------------\n",
            "Testing create_one_hot: Passed.\n",
            "----------------------------------------\n",
            "Testing feed_forward / softmax: Passed.\n",
            "----------------------------------------\n",
            "Testing compute_loss: Passed.\n",
            "----------------------------------------\n",
            "Testing get_grad: Passed.\n",
            "----------------------------------------\n",
            "Testing feed_forward / softmax: Passed.\n",
            "----------------------------------------\n",
            "Testing compute_loss: Passed.\n",
            "----------------------------------------\n",
            "Testing get_grad: Passed.\n",
            "----------------------------------------\n",
            "Testing feed_forward / softmax: Passed.\n",
            "----------------------------------------\n",
            "Testing compute_loss: Passed.\n",
            "----------------------------------------\n",
            "Testing get_grad: Passed.\n",
            "----------------------------------------\n",
            "Testing feed_forward / softmax: Passed.\n",
            "----------------------------------------\n",
            "Testing compute_loss: Passed.\n",
            "----------------------------------------\n",
            "Testing get_grad: Passed.\n",
            "----------------------------------------\n",
            "Testing feed_forward / softmax: Passed.\n",
            "----------------------------------------\n",
            "Testing compute_loss: Passed.\n",
            "----------------------------------------\n",
            "Testing get_grad: Passed.\n",
            "----------------------------------------\n",
            "Testing feed_forward / softmax: Passed.\n",
            "----------------------------------------\n",
            "Testing compute_loss: Passed.\n",
            "----------------------------------------\n",
            "Testing get_grad: Passed.\n",
            "----------------------------------------\n",
            "Testing feed_forward / softmax: Passed.\n",
            "----------------------------------------\n",
            "Testing compute_loss: Passed.\n",
            "----------------------------------------\n",
            "Testing get_grad: Passed.\n",
            "----------------------------------------\n",
            "Testing feed_forward / softmax: Passed.\n",
            "----------------------------------------\n",
            "Testing compute_loss: Passed.\n",
            "----------------------------------------\n",
            "Testing get_grad: Passed.\n",
            "----------------------------------------\n",
            "Testing feed_forward / softmax: Passed.\n",
            "----------------------------------------\n",
            "Testing compute_loss: Passed.\n",
            "----------------------------------------\n",
            "Testing get_grad: Passed.\n",
            "----------------------------------------\n",
            "Testing feed_forward / softmax: Passed.\n",
            "----------------------------------------\n",
            "Testing compute_loss: Passed.\n",
            "----------------------------------------\n",
            "Testing get_grad: Passed.\n",
            "----------------------------------------\n"
          ]
        }
      ]
    },
    {
      "cell_type": "code",
      "source": [],
      "metadata": {
        "id": "Jd5A4T_qCF1Y"
      },
      "execution_count": 64,
      "outputs": []
    },
    {
      "cell_type": "markdown",
      "source": [
        "##SOFTMAX_TF"
      ],
      "metadata": {
        "id": "071_PacqFSxy"
      }
    },
    {
      "cell_type": "code",
      "source": [
        "import tensorflow as tf\n",
        "np.random.seed(2020)\n",
        "tf.compat.v1.set_random_seed(2020)\n",
        "train_x, train_y, val_x, val_y, test_x, test_y = get_mnist_data()\n",
        "train_y = create_one_hot(train_y)\n",
        "val_y = create_one_hot(val_y)\n",
        "test_y = create_one_hot(test_y)\n",
        "train_x, val_x, test_x = normalize(train_x, val_x, test_x)\n",
        "train_x = add_one(train_x) \n",
        "val_x = add_one(val_x)\n",
        "test_x = add_one(test_x)"
      ],
      "metadata": {
        "colab": {
          "base_uri": "https://localhost:8080/"
        },
        "id": "tuzhxNm5CGij",
        "outputId": "d6a01b81-4000-404b-b4d4-233cb7448555"
      },
      "execution_count": 65,
      "outputs": [
        {
          "output_type": "stream",
          "name": "stdout",
          "text": [
            "Reading fashion MNIST data...\n",
            "<class 'numpy.ndarray'>\n"
          ]
        }
      ]
    },
    {
      "cell_type": "markdown",
      "source": [
        "###TODO 2.8 - Tạo TF place holders, variables, cập nhật w"
      ],
      "metadata": {
        "id": "DWDB-ppEDqg6"
      }
    },
    {
      "cell_type": "code",
      "source": [
        "m, n = train_x.shape\n",
        "num_epoch = 100\n",
        "tf.compat.v1.disable_eager_execution()\n",
        "tf.compat.v1.disable_v2_behavior()\n",
        "x = tf.compat.v1.placeholder(tf.float32, shape=(None, n))\n",
        "y = tf.compat.v1.placeholder(tf.float32, shape=(None, 10))"
      ],
      "metadata": {
        "id": "LNBh0nulCckd"
      },
      "execution_count": 66,
      "outputs": []
    },
    {
      "cell_type": "code",
      "source": [
        "w = tf.Variable(tf.ones([n, 1]), dtype=tf.float32)"
      ],
      "metadata": {
        "id": "3OFQrNc6Cjjg"
      },
      "execution_count": 67,
      "outputs": []
    },
    {
      "cell_type": "markdown",
      "source": [
        "###TODO 2.9 & 2.10: Tạo toán tử feed forward & Tính độ lỗi "
      ],
      "metadata": {
        "id": "OG27dLR0D6vQ"
      }
    },
    {
      "cell_type": "code",
      "source": [
        "pred = tf.matmul(x, w)\n",
        "cost = tf.nn.softmax_cross_entropy_with_logits(logits = pred, labels = y)"
      ],
      "metadata": {
        "id": "hATDIeTjC1Ir"
      },
      "execution_count": 68,
      "outputs": []
    },
    {
      "cell_type": "markdown",
      "source": [
        "###TODO 2.8: SGD optimizer"
      ],
      "metadata": {
        "id": "YHdgcHO4EHKN"
      }
    },
    {
      "cell_type": "code",
      "source": [
        "optimizer = tf.compat.v1.train.GradientDescentOptimizer(learning_rate=0.002).minimize(cost)"
      ],
      "metadata": {
        "id": "08vnM9l6DU4l"
      },
      "execution_count": 69,
      "outputs": []
    },
    {
      "cell_type": "markdown",
      "source": [
        "###TODO 2.11 - Tạo điều kiện dừng \n"
      ],
      "metadata": {
        "id": "9i1CVUK8F6ha"
      }
    },
    {
      "cell_type": "code",
      "source": [],
      "metadata": {
        "id": "f5g2CU6AF8tW"
      },
      "execution_count": null,
      "outputs": []
    }
  ]
}